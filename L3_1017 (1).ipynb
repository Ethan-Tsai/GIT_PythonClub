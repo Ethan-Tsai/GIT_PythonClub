{
  "cells": [
    {
      "cell_type": "markdown",
      "id": "c2465637",
      "metadata": {
        "id": "c2465637"
      },
      "source": [
        "# 網研python L3 爬蟲初階\n",
        "#### https://ethan-tsai.github.io/py_materials/L3_webpage.html"
      ]
    },
    {
      "cell_type": "markdown",
      "id": "937cb515",
      "metadata": {
        "id": "937cb515"
      },
      "source": [
        "### 先來一點上課不會教的"
      ]
    },
    {
      "cell_type": "code",
      "execution_count": null,
      "id": "6ac01b2c",
      "metadata": {
        "colab": {
          "base_uri": "https://localhost:8080/"
        },
        "id": "6ac01b2c",
        "outputId": "4e905062-f5b7-4773-da3f-22b7e880faba"
      },
      "outputs": [
        {
          "output_type": "stream",
          "name": "stdout",
          "text": [
            "Collecting jupyterthemes\n",
            "  Downloading jupyterthemes-0.20.0-py2.py3-none-any.whl (7.0 MB)\n",
            "\u001b[2K     \u001b[90m━━━━━━━━━━━━━━━━━━━━━━━━━━━━━━━━━━━━━━━━\u001b[0m \u001b[32m7.0/7.0 MB\u001b[0m \u001b[31m47.4 MB/s\u001b[0m eta \u001b[36m0:00:00\u001b[0m\n",
            "\u001b[?25hRequirement already satisfied: jupyter-core in /usr/local/lib/python3.10/dist-packages (from jupyterthemes) (5.4.0)\n",
            "Requirement already satisfied: notebook>=5.6.0 in /usr/local/lib/python3.10/dist-packages (from jupyterthemes) (6.5.5)\n",
            "Requirement already satisfied: ipython>=5.4.1 in /usr/local/lib/python3.10/dist-packages (from jupyterthemes) (7.34.0)\n",
            "Requirement already satisfied: matplotlib>=1.4.3 in /usr/local/lib/python3.10/dist-packages (from jupyterthemes) (3.7.1)\n",
            "Collecting lesscpy>=0.11.2 (from jupyterthemes)\n",
            "  Downloading lesscpy-0.15.1-py2.py3-none-any.whl (46 kB)\n",
            "\u001b[2K     \u001b[90m━━━━━━━━━━━━━━━━━━━━━━━━━━━━━━━━━━━━━━━━\u001b[0m \u001b[32m46.7/46.7 kB\u001b[0m \u001b[31m6.1 MB/s\u001b[0m eta \u001b[36m0:00:00\u001b[0m\n",
            "\u001b[?25hRequirement already satisfied: setuptools>=18.5 in /usr/local/lib/python3.10/dist-packages (from ipython>=5.4.1->jupyterthemes) (67.7.2)\n",
            "Collecting jedi>=0.16 (from ipython>=5.4.1->jupyterthemes)\n",
            "  Downloading jedi-0.19.1-py2.py3-none-any.whl (1.6 MB)\n",
            "\u001b[2K     \u001b[90m━━━━━━━━━━━━━━━━━━━━━━━━━━━━━━━━━━━━━━━━\u001b[0m \u001b[32m1.6/1.6 MB\u001b[0m \u001b[31m75.3 MB/s\u001b[0m eta \u001b[36m0:00:00\u001b[0m\n",
            "\u001b[?25hRequirement already satisfied: decorator in /usr/local/lib/python3.10/dist-packages (from ipython>=5.4.1->jupyterthemes) (4.4.2)\n",
            "Requirement already satisfied: pickleshare in /usr/local/lib/python3.10/dist-packages (from ipython>=5.4.1->jupyterthemes) (0.7.5)\n",
            "Requirement already satisfied: traitlets>=4.2 in /usr/local/lib/python3.10/dist-packages (from ipython>=5.4.1->jupyterthemes) (5.7.1)\n",
            "Requirement already satisfied: prompt-toolkit!=3.0.0,!=3.0.1,<3.1.0,>=2.0.0 in /usr/local/lib/python3.10/dist-packages (from ipython>=5.4.1->jupyterthemes) (3.0.39)\n",
            "Requirement already satisfied: pygments in /usr/local/lib/python3.10/dist-packages (from ipython>=5.4.1->jupyterthemes) (2.16.1)\n",
            "Requirement already satisfied: backcall in /usr/local/lib/python3.10/dist-packages (from ipython>=5.4.1->jupyterthemes) (0.2.0)\n",
            "Requirement already satisfied: matplotlib-inline in /usr/local/lib/python3.10/dist-packages (from ipython>=5.4.1->jupyterthemes) (0.1.6)\n",
            "Requirement already satisfied: pexpect>4.3 in /usr/local/lib/python3.10/dist-packages (from ipython>=5.4.1->jupyterthemes) (4.8.0)\n",
            "Collecting ply (from lesscpy>=0.11.2->jupyterthemes)\n",
            "  Downloading ply-3.11-py2.py3-none-any.whl (49 kB)\n",
            "\u001b[2K     \u001b[90m━━━━━━━━━━━━━━━━━━━━━━━━━━━━━━━━━━━━━━━━\u001b[0m \u001b[32m49.6/49.6 kB\u001b[0m \u001b[31m6.4 MB/s\u001b[0m eta \u001b[36m0:00:00\u001b[0m\n",
            "\u001b[?25hRequirement already satisfied: contourpy>=1.0.1 in /usr/local/lib/python3.10/dist-packages (from matplotlib>=1.4.3->jupyterthemes) (1.1.1)\n",
            "Requirement already satisfied: cycler>=0.10 in /usr/local/lib/python3.10/dist-packages (from matplotlib>=1.4.3->jupyterthemes) (0.12.1)\n",
            "Requirement already satisfied: fonttools>=4.22.0 in /usr/local/lib/python3.10/dist-packages (from matplotlib>=1.4.3->jupyterthemes) (4.43.1)\n",
            "Requirement already satisfied: kiwisolver>=1.0.1 in /usr/local/lib/python3.10/dist-packages (from matplotlib>=1.4.3->jupyterthemes) (1.4.5)\n",
            "Requirement already satisfied: numpy>=1.20 in /usr/local/lib/python3.10/dist-packages (from matplotlib>=1.4.3->jupyterthemes) (1.23.5)\n",
            "Requirement already satisfied: packaging>=20.0 in /usr/local/lib/python3.10/dist-packages (from matplotlib>=1.4.3->jupyterthemes) (23.2)\n",
            "Requirement already satisfied: pillow>=6.2.0 in /usr/local/lib/python3.10/dist-packages (from matplotlib>=1.4.3->jupyterthemes) (9.4.0)\n",
            "Requirement already satisfied: pyparsing>=2.3.1 in /usr/local/lib/python3.10/dist-packages (from matplotlib>=1.4.3->jupyterthemes) (3.1.1)\n",
            "Requirement already satisfied: python-dateutil>=2.7 in /usr/local/lib/python3.10/dist-packages (from matplotlib>=1.4.3->jupyterthemes) (2.8.2)\n",
            "Requirement already satisfied: jinja2 in /usr/local/lib/python3.10/dist-packages (from notebook>=5.6.0->jupyterthemes) (3.1.2)\n",
            "Requirement already satisfied: tornado>=6.1 in /usr/local/lib/python3.10/dist-packages (from notebook>=5.6.0->jupyterthemes) (6.3.2)\n",
            "Requirement already satisfied: pyzmq<25,>=17 in /usr/local/lib/python3.10/dist-packages (from notebook>=5.6.0->jupyterthemes) (23.2.1)\n",
            "Requirement already satisfied: argon2-cffi in /usr/local/lib/python3.10/dist-packages (from notebook>=5.6.0->jupyterthemes) (23.1.0)\n",
            "Requirement already satisfied: jupyter-client<8,>=5.3.4 in /usr/local/lib/python3.10/dist-packages (from notebook>=5.6.0->jupyterthemes) (6.1.12)\n",
            "Requirement already satisfied: ipython-genutils in /usr/local/lib/python3.10/dist-packages (from notebook>=5.6.0->jupyterthemes) (0.2.0)\n",
            "Requirement already satisfied: nbformat in /usr/local/lib/python3.10/dist-packages (from notebook>=5.6.0->jupyterthemes) (5.9.2)\n",
            "Requirement already satisfied: nbconvert>=5 in /usr/local/lib/python3.10/dist-packages (from notebook>=5.6.0->jupyterthemes) (6.5.4)\n",
            "Requirement already satisfied: nest-asyncio>=1.5 in /usr/local/lib/python3.10/dist-packages (from notebook>=5.6.0->jupyterthemes) (1.5.8)\n",
            "Requirement already satisfied: ipykernel in /usr/local/lib/python3.10/dist-packages (from notebook>=5.6.0->jupyterthemes) (5.5.6)\n",
            "Requirement already satisfied: Send2Trash>=1.8.0 in /usr/local/lib/python3.10/dist-packages (from notebook>=5.6.0->jupyterthemes) (1.8.2)\n",
            "Requirement already satisfied: terminado>=0.8.3 in /usr/local/lib/python3.10/dist-packages (from notebook>=5.6.0->jupyterthemes) (0.17.1)\n",
            "Requirement already satisfied: prometheus-client in /usr/local/lib/python3.10/dist-packages (from notebook>=5.6.0->jupyterthemes) (0.17.1)\n",
            "Requirement already satisfied: nbclassic>=0.4.7 in /usr/local/lib/python3.10/dist-packages (from notebook>=5.6.0->jupyterthemes) (1.0.0)\n",
            "Requirement already satisfied: platformdirs>=2.5 in /usr/local/lib/python3.10/dist-packages (from jupyter-core->jupyterthemes) (3.11.0)\n",
            "Requirement already satisfied: parso<0.9.0,>=0.8.3 in /usr/local/lib/python3.10/dist-packages (from jedi>=0.16->ipython>=5.4.1->jupyterthemes) (0.8.3)\n",
            "Requirement already satisfied: jupyter-server>=1.8 in /usr/local/lib/python3.10/dist-packages (from nbclassic>=0.4.7->notebook>=5.6.0->jupyterthemes) (1.24.0)\n",
            "Requirement already satisfied: notebook-shim>=0.2.3 in /usr/local/lib/python3.10/dist-packages (from nbclassic>=0.4.7->notebook>=5.6.0->jupyterthemes) (0.2.3)\n",
            "Requirement already satisfied: lxml in /usr/local/lib/python3.10/dist-packages (from nbconvert>=5->notebook>=5.6.0->jupyterthemes) (4.9.3)\n",
            "Requirement already satisfied: beautifulsoup4 in /usr/local/lib/python3.10/dist-packages (from nbconvert>=5->notebook>=5.6.0->jupyterthemes) (4.11.2)\n",
            "Requirement already satisfied: bleach in /usr/local/lib/python3.10/dist-packages (from nbconvert>=5->notebook>=5.6.0->jupyterthemes) (6.1.0)\n",
            "Requirement already satisfied: defusedxml in /usr/local/lib/python3.10/dist-packages (from nbconvert>=5->notebook>=5.6.0->jupyterthemes) (0.7.1)\n",
            "Requirement already satisfied: entrypoints>=0.2.2 in /usr/local/lib/python3.10/dist-packages (from nbconvert>=5->notebook>=5.6.0->jupyterthemes) (0.4)\n",
            "Requirement already satisfied: jupyterlab-pygments in /usr/local/lib/python3.10/dist-packages (from nbconvert>=5->notebook>=5.6.0->jupyterthemes) (0.2.2)\n",
            "Requirement already satisfied: MarkupSafe>=2.0 in /usr/local/lib/python3.10/dist-packages (from nbconvert>=5->notebook>=5.6.0->jupyterthemes) (2.1.3)\n",
            "Requirement already satisfied: mistune<2,>=0.8.1 in /usr/local/lib/python3.10/dist-packages (from nbconvert>=5->notebook>=5.6.0->jupyterthemes) (0.8.4)\n",
            "Requirement already satisfied: nbclient>=0.5.0 in /usr/local/lib/python3.10/dist-packages (from nbconvert>=5->notebook>=5.6.0->jupyterthemes) (0.8.0)\n",
            "Requirement already satisfied: pandocfilters>=1.4.1 in /usr/local/lib/python3.10/dist-packages (from nbconvert>=5->notebook>=5.6.0->jupyterthemes) (1.5.0)\n",
            "Requirement already satisfied: tinycss2 in /usr/local/lib/python3.10/dist-packages (from nbconvert>=5->notebook>=5.6.0->jupyterthemes) (1.2.1)\n",
            "Requirement already satisfied: fastjsonschema in /usr/local/lib/python3.10/dist-packages (from nbformat->notebook>=5.6.0->jupyterthemes) (2.18.1)\n",
            "Requirement already satisfied: jsonschema>=2.6 in /usr/local/lib/python3.10/dist-packages (from nbformat->notebook>=5.6.0->jupyterthemes) (4.19.1)\n",
            "Requirement already satisfied: ptyprocess>=0.5 in /usr/local/lib/python3.10/dist-packages (from pexpect>4.3->ipython>=5.4.1->jupyterthemes) (0.7.0)\n",
            "Requirement already satisfied: wcwidth in /usr/local/lib/python3.10/dist-packages (from prompt-toolkit!=3.0.0,!=3.0.1,<3.1.0,>=2.0.0->ipython>=5.4.1->jupyterthemes) (0.2.8)\n",
            "Requirement already satisfied: six>=1.5 in /usr/local/lib/python3.10/dist-packages (from python-dateutil>=2.7->matplotlib>=1.4.3->jupyterthemes) (1.16.0)\n",
            "Requirement already satisfied: argon2-cffi-bindings in /usr/local/lib/python3.10/dist-packages (from argon2-cffi->notebook>=5.6.0->jupyterthemes) (21.2.0)\n",
            "Requirement already satisfied: attrs>=22.2.0 in /usr/local/lib/python3.10/dist-packages (from jsonschema>=2.6->nbformat->notebook>=5.6.0->jupyterthemes) (23.1.0)\n",
            "Requirement already satisfied: jsonschema-specifications>=2023.03.6 in /usr/local/lib/python3.10/dist-packages (from jsonschema>=2.6->nbformat->notebook>=5.6.0->jupyterthemes) (2023.7.1)\n",
            "Requirement already satisfied: referencing>=0.28.4 in /usr/local/lib/python3.10/dist-packages (from jsonschema>=2.6->nbformat->notebook>=5.6.0->jupyterthemes) (0.30.2)\n",
            "Requirement already satisfied: rpds-py>=0.7.1 in /usr/local/lib/python3.10/dist-packages (from jsonschema>=2.6->nbformat->notebook>=5.6.0->jupyterthemes) (0.10.4)\n",
            "Requirement already satisfied: anyio<4,>=3.1.0 in /usr/local/lib/python3.10/dist-packages (from jupyter-server>=1.8->nbclassic>=0.4.7->notebook>=5.6.0->jupyterthemes) (3.7.1)\n",
            "Requirement already satisfied: websocket-client in /usr/local/lib/python3.10/dist-packages (from jupyter-server>=1.8->nbclassic>=0.4.7->notebook>=5.6.0->jupyterthemes) (1.6.4)\n",
            "Requirement already satisfied: cffi>=1.0.1 in /usr/local/lib/python3.10/dist-packages (from argon2-cffi-bindings->argon2-cffi->notebook>=5.6.0->jupyterthemes) (1.16.0)\n",
            "Requirement already satisfied: soupsieve>1.2 in /usr/local/lib/python3.10/dist-packages (from beautifulsoup4->nbconvert>=5->notebook>=5.6.0->jupyterthemes) (2.5)\n",
            "Requirement already satisfied: webencodings in /usr/local/lib/python3.10/dist-packages (from bleach->nbconvert>=5->notebook>=5.6.0->jupyterthemes) (0.5.1)\n",
            "Requirement already satisfied: idna>=2.8 in /usr/local/lib/python3.10/dist-packages (from anyio<4,>=3.1.0->jupyter-server>=1.8->nbclassic>=0.4.7->notebook>=5.6.0->jupyterthemes) (3.4)\n",
            "Requirement already satisfied: sniffio>=1.1 in /usr/local/lib/python3.10/dist-packages (from anyio<4,>=3.1.0->jupyter-server>=1.8->nbclassic>=0.4.7->notebook>=5.6.0->jupyterthemes) (1.3.0)\n",
            "Requirement already satisfied: exceptiongroup in /usr/local/lib/python3.10/dist-packages (from anyio<4,>=3.1.0->jupyter-server>=1.8->nbclassic>=0.4.7->notebook>=5.6.0->jupyterthemes) (1.1.3)\n",
            "Requirement already satisfied: pycparser in /usr/local/lib/python3.10/dist-packages (from cffi>=1.0.1->argon2-cffi-bindings->argon2-cffi->notebook>=5.6.0->jupyterthemes) (2.21)\n",
            "Installing collected packages: ply, lesscpy, jedi, jupyterthemes\n",
            "Successfully installed jedi-0.19.1 jupyterthemes-0.20.0 lesscpy-0.15.1 ply-3.11\n",
            "Requirement already satisfied: jupyterthemes in /usr/local/lib/python3.10/dist-packages (0.20.0)\n",
            "Requirement already satisfied: jupyter-core in /usr/local/lib/python3.10/dist-packages (from jupyterthemes) (5.4.0)\n",
            "Requirement already satisfied: notebook>=5.6.0 in /usr/local/lib/python3.10/dist-packages (from jupyterthemes) (6.5.5)\n",
            "Requirement already satisfied: ipython>=5.4.1 in /usr/local/lib/python3.10/dist-packages (from jupyterthemes) (7.34.0)\n",
            "Requirement already satisfied: matplotlib>=1.4.3 in /usr/local/lib/python3.10/dist-packages (from jupyterthemes) (3.7.1)\n",
            "Requirement already satisfied: lesscpy>=0.11.2 in /usr/local/lib/python3.10/dist-packages (from jupyterthemes) (0.15.1)\n",
            "Requirement already satisfied: setuptools>=18.5 in /usr/local/lib/python3.10/dist-packages (from ipython>=5.4.1->jupyterthemes) (67.7.2)\n",
            "Requirement already satisfied: jedi>=0.16 in /usr/local/lib/python3.10/dist-packages (from ipython>=5.4.1->jupyterthemes) (0.19.1)\n",
            "Requirement already satisfied: decorator in /usr/local/lib/python3.10/dist-packages (from ipython>=5.4.1->jupyterthemes) (4.4.2)\n",
            "Requirement already satisfied: pickleshare in /usr/local/lib/python3.10/dist-packages (from ipython>=5.4.1->jupyterthemes) (0.7.5)\n",
            "Requirement already satisfied: traitlets>=4.2 in /usr/local/lib/python3.10/dist-packages (from ipython>=5.4.1->jupyterthemes) (5.7.1)\n",
            "Requirement already satisfied: prompt-toolkit!=3.0.0,!=3.0.1,<3.1.0,>=2.0.0 in /usr/local/lib/python3.10/dist-packages (from ipython>=5.4.1->jupyterthemes) (3.0.39)\n",
            "Requirement already satisfied: pygments in /usr/local/lib/python3.10/dist-packages (from ipython>=5.4.1->jupyterthemes) (2.16.1)\n",
            "Requirement already satisfied: backcall in /usr/local/lib/python3.10/dist-packages (from ipython>=5.4.1->jupyterthemes) (0.2.0)\n",
            "Requirement already satisfied: matplotlib-inline in /usr/local/lib/python3.10/dist-packages (from ipython>=5.4.1->jupyterthemes) (0.1.6)\n",
            "Requirement already satisfied: pexpect>4.3 in /usr/local/lib/python3.10/dist-packages (from ipython>=5.4.1->jupyterthemes) (4.8.0)\n",
            "Requirement already satisfied: ply in /usr/local/lib/python3.10/dist-packages (from lesscpy>=0.11.2->jupyterthemes) (3.11)\n",
            "Requirement already satisfied: contourpy>=1.0.1 in /usr/local/lib/python3.10/dist-packages (from matplotlib>=1.4.3->jupyterthemes) (1.1.1)\n",
            "Requirement already satisfied: cycler>=0.10 in /usr/local/lib/python3.10/dist-packages (from matplotlib>=1.4.3->jupyterthemes) (0.12.1)\n",
            "Requirement already satisfied: fonttools>=4.22.0 in /usr/local/lib/python3.10/dist-packages (from matplotlib>=1.4.3->jupyterthemes) (4.43.1)\n",
            "Requirement already satisfied: kiwisolver>=1.0.1 in /usr/local/lib/python3.10/dist-packages (from matplotlib>=1.4.3->jupyterthemes) (1.4.5)\n",
            "Requirement already satisfied: numpy>=1.20 in /usr/local/lib/python3.10/dist-packages (from matplotlib>=1.4.3->jupyterthemes) (1.23.5)\n",
            "Requirement already satisfied: packaging>=20.0 in /usr/local/lib/python3.10/dist-packages (from matplotlib>=1.4.3->jupyterthemes) (23.2)\n",
            "Requirement already satisfied: pillow>=6.2.0 in /usr/local/lib/python3.10/dist-packages (from matplotlib>=1.4.3->jupyterthemes) (9.4.0)\n",
            "Requirement already satisfied: pyparsing>=2.3.1 in /usr/local/lib/python3.10/dist-packages (from matplotlib>=1.4.3->jupyterthemes) (3.1.1)\n",
            "Requirement already satisfied: python-dateutil>=2.7 in /usr/local/lib/python3.10/dist-packages (from matplotlib>=1.4.3->jupyterthemes) (2.8.2)\n",
            "Requirement already satisfied: jinja2 in /usr/local/lib/python3.10/dist-packages (from notebook>=5.6.0->jupyterthemes) (3.1.2)\n",
            "Requirement already satisfied: tornado>=6.1 in /usr/local/lib/python3.10/dist-packages (from notebook>=5.6.0->jupyterthemes) (6.3.2)\n",
            "Requirement already satisfied: pyzmq<25,>=17 in /usr/local/lib/python3.10/dist-packages (from notebook>=5.6.0->jupyterthemes) (23.2.1)\n",
            "Requirement already satisfied: argon2-cffi in /usr/local/lib/python3.10/dist-packages (from notebook>=5.6.0->jupyterthemes) (23.1.0)\n",
            "Requirement already satisfied: jupyter-client<8,>=5.3.4 in /usr/local/lib/python3.10/dist-packages (from notebook>=5.6.0->jupyterthemes) (6.1.12)\n",
            "Requirement already satisfied: ipython-genutils in /usr/local/lib/python3.10/dist-packages (from notebook>=5.6.0->jupyterthemes) (0.2.0)\n",
            "Requirement already satisfied: nbformat in /usr/local/lib/python3.10/dist-packages (from notebook>=5.6.0->jupyterthemes) (5.9.2)\n",
            "Requirement already satisfied: nbconvert>=5 in /usr/local/lib/python3.10/dist-packages (from notebook>=5.6.0->jupyterthemes) (6.5.4)\n",
            "Requirement already satisfied: nest-asyncio>=1.5 in /usr/local/lib/python3.10/dist-packages (from notebook>=5.6.0->jupyterthemes) (1.5.8)\n",
            "Requirement already satisfied: ipykernel in /usr/local/lib/python3.10/dist-packages (from notebook>=5.6.0->jupyterthemes) (5.5.6)\n",
            "Requirement already satisfied: Send2Trash>=1.8.0 in /usr/local/lib/python3.10/dist-packages (from notebook>=5.6.0->jupyterthemes) (1.8.2)\n",
            "Requirement already satisfied: terminado>=0.8.3 in /usr/local/lib/python3.10/dist-packages (from notebook>=5.6.0->jupyterthemes) (0.17.1)\n",
            "Requirement already satisfied: prometheus-client in /usr/local/lib/python3.10/dist-packages (from notebook>=5.6.0->jupyterthemes) (0.17.1)\n",
            "Requirement already satisfied: nbclassic>=0.4.7 in /usr/local/lib/python3.10/dist-packages (from notebook>=5.6.0->jupyterthemes) (1.0.0)\n",
            "Requirement already satisfied: platformdirs>=2.5 in /usr/local/lib/python3.10/dist-packages (from jupyter-core->jupyterthemes) (3.11.0)\n",
            "Requirement already satisfied: parso<0.9.0,>=0.8.3 in /usr/local/lib/python3.10/dist-packages (from jedi>=0.16->ipython>=5.4.1->jupyterthemes) (0.8.3)\n",
            "Requirement already satisfied: jupyter-server>=1.8 in /usr/local/lib/python3.10/dist-packages (from nbclassic>=0.4.7->notebook>=5.6.0->jupyterthemes) (1.24.0)\n",
            "Requirement already satisfied: notebook-shim>=0.2.3 in /usr/local/lib/python3.10/dist-packages (from nbclassic>=0.4.7->notebook>=5.6.0->jupyterthemes) (0.2.3)\n",
            "Requirement already satisfied: lxml in /usr/local/lib/python3.10/dist-packages (from nbconvert>=5->notebook>=5.6.0->jupyterthemes) (4.9.3)\n",
            "Requirement already satisfied: beautifulsoup4 in /usr/local/lib/python3.10/dist-packages (from nbconvert>=5->notebook>=5.6.0->jupyterthemes) (4.11.2)\n",
            "Requirement already satisfied: bleach in /usr/local/lib/python3.10/dist-packages (from nbconvert>=5->notebook>=5.6.0->jupyterthemes) (6.1.0)\n",
            "Requirement already satisfied: defusedxml in /usr/local/lib/python3.10/dist-packages (from nbconvert>=5->notebook>=5.6.0->jupyterthemes) (0.7.1)\n",
            "Requirement already satisfied: entrypoints>=0.2.2 in /usr/local/lib/python3.10/dist-packages (from nbconvert>=5->notebook>=5.6.0->jupyterthemes) (0.4)\n",
            "Requirement already satisfied: jupyterlab-pygments in /usr/local/lib/python3.10/dist-packages (from nbconvert>=5->notebook>=5.6.0->jupyterthemes) (0.2.2)\n",
            "Requirement already satisfied: MarkupSafe>=2.0 in /usr/local/lib/python3.10/dist-packages (from nbconvert>=5->notebook>=5.6.0->jupyterthemes) (2.1.3)\n",
            "Requirement already satisfied: mistune<2,>=0.8.1 in /usr/local/lib/python3.10/dist-packages (from nbconvert>=5->notebook>=5.6.0->jupyterthemes) (0.8.4)\n",
            "Requirement already satisfied: nbclient>=0.5.0 in /usr/local/lib/python3.10/dist-packages (from nbconvert>=5->notebook>=5.6.0->jupyterthemes) (0.8.0)\n",
            "Requirement already satisfied: pandocfilters>=1.4.1 in /usr/local/lib/python3.10/dist-packages (from nbconvert>=5->notebook>=5.6.0->jupyterthemes) (1.5.0)\n",
            "Requirement already satisfied: tinycss2 in /usr/local/lib/python3.10/dist-packages (from nbconvert>=5->notebook>=5.6.0->jupyterthemes) (1.2.1)\n",
            "Requirement already satisfied: fastjsonschema in /usr/local/lib/python3.10/dist-packages (from nbformat->notebook>=5.6.0->jupyterthemes) (2.18.1)\n",
            "Requirement already satisfied: jsonschema>=2.6 in /usr/local/lib/python3.10/dist-packages (from nbformat->notebook>=5.6.0->jupyterthemes) (4.19.1)\n",
            "Requirement already satisfied: ptyprocess>=0.5 in /usr/local/lib/python3.10/dist-packages (from pexpect>4.3->ipython>=5.4.1->jupyterthemes) (0.7.0)\n",
            "Requirement already satisfied: wcwidth in /usr/local/lib/python3.10/dist-packages (from prompt-toolkit!=3.0.0,!=3.0.1,<3.1.0,>=2.0.0->ipython>=5.4.1->jupyterthemes) (0.2.8)\n",
            "Requirement already satisfied: six>=1.5 in /usr/local/lib/python3.10/dist-packages (from python-dateutil>=2.7->matplotlib>=1.4.3->jupyterthemes) (1.16.0)\n",
            "Requirement already satisfied: argon2-cffi-bindings in /usr/local/lib/python3.10/dist-packages (from argon2-cffi->notebook>=5.6.0->jupyterthemes) (21.2.0)\n",
            "Requirement already satisfied: attrs>=22.2.0 in /usr/local/lib/python3.10/dist-packages (from jsonschema>=2.6->nbformat->notebook>=5.6.0->jupyterthemes) (23.1.0)\n",
            "Requirement already satisfied: jsonschema-specifications>=2023.03.6 in /usr/local/lib/python3.10/dist-packages (from jsonschema>=2.6->nbformat->notebook>=5.6.0->jupyterthemes) (2023.7.1)\n",
            "Requirement already satisfied: referencing>=0.28.4 in /usr/local/lib/python3.10/dist-packages (from jsonschema>=2.6->nbformat->notebook>=5.6.0->jupyterthemes) (0.30.2)\n",
            "Requirement already satisfied: rpds-py>=0.7.1 in /usr/local/lib/python3.10/dist-packages (from jsonschema>=2.6->nbformat->notebook>=5.6.0->jupyterthemes) (0.10.4)\n",
            "Requirement already satisfied: anyio<4,>=3.1.0 in /usr/local/lib/python3.10/dist-packages (from jupyter-server>=1.8->nbclassic>=0.4.7->notebook>=5.6.0->jupyterthemes) (3.7.1)\n",
            "Requirement already satisfied: websocket-client in /usr/local/lib/python3.10/dist-packages (from jupyter-server>=1.8->nbclassic>=0.4.7->notebook>=5.6.0->jupyterthemes) (1.6.4)\n",
            "Requirement already satisfied: cffi>=1.0.1 in /usr/local/lib/python3.10/dist-packages (from argon2-cffi-bindings->argon2-cffi->notebook>=5.6.0->jupyterthemes) (1.16.0)\n",
            "Requirement already satisfied: soupsieve>1.2 in /usr/local/lib/python3.10/dist-packages (from beautifulsoup4->nbconvert>=5->notebook>=5.6.0->jupyterthemes) (2.5)\n",
            "Requirement already satisfied: webencodings in /usr/local/lib/python3.10/dist-packages (from bleach->nbconvert>=5->notebook>=5.6.0->jupyterthemes) (0.5.1)\n",
            "Requirement already satisfied: idna>=2.8 in /usr/local/lib/python3.10/dist-packages (from anyio<4,>=3.1.0->jupyter-server>=1.8->nbclassic>=0.4.7->notebook>=5.6.0->jupyterthemes) (3.4)\n",
            "Requirement already satisfied: sniffio>=1.1 in /usr/local/lib/python3.10/dist-packages (from anyio<4,>=3.1.0->jupyter-server>=1.8->nbclassic>=0.4.7->notebook>=5.6.0->jupyterthemes) (1.3.0)\n",
            "Requirement already satisfied: exceptiongroup in /usr/local/lib/python3.10/dist-packages (from anyio<4,>=3.1.0->jupyter-server>=1.8->nbclassic>=0.4.7->notebook>=5.6.0->jupyterthemes) (1.1.3)\n",
            "Requirement already satisfied: pycparser in /usr/local/lib/python3.10/dist-packages (from cffi>=1.0.1->argon2-cffi-bindings->argon2-cffi->notebook>=5.6.0->jupyterthemes) (2.21)\n"
          ]
        }
      ],
      "source": [
        "!pip install jupyterthemes\n",
        "!pip install --upgrade jupyterthemes"
      ]
    },
    {
      "cell_type": "code",
      "execution_count": null,
      "id": "fb9b405b",
      "metadata": {
        "colab": {
          "base_uri": "https://localhost:8080/"
        },
        "id": "fb9b405b",
        "outputId": "337d9a75-5870-4aff-acb8-9cc267a0d224"
      },
      "outputs": [
        {
          "output_type": "stream",
          "name": "stdout",
          "text": [
            "Available Themes: \n",
            "   chesterish\n",
            "   grade3\n",
            "   gruvboxd\n",
            "   gruvboxl\n",
            "   monokai\n",
            "   oceans16\n",
            "   onedork\n",
            "   solarizedd\n",
            "   solarizedl\n"
          ]
        }
      ],
      "source": [
        "!jt -l"
      ]
    },
    {
      "cell_type": "code",
      "execution_count": null,
      "id": "5688f154",
      "metadata": {
        "id": "5688f154"
      },
      "outputs": [],
      "source": [
        "!jt -t chesterish"
      ]
    },
    {
      "cell_type": "code",
      "execution_count": null,
      "id": "f1a8b909",
      "metadata": {
        "id": "f1a8b909"
      },
      "outputs": [],
      "source": [
        "#!jt -r"
      ]
    },
    {
      "cell_type": "markdown",
      "id": "f5930d26",
      "metadata": {
        "id": "f5930d26"
      },
      "source": [
        "#### 感謝作者提供以下內容"
      ]
    },
    {
      "cell_type": "markdown",
      "id": "170627dc",
      "metadata": {
        "id": "170627dc"
      },
      "source": [
        "##### https://github.com/LSTM-Kirigaya/a-simple-css-for-jupyter-notebook/tree/master"
      ]
    },
    {
      "cell_type": "markdown",
      "id": "60b516e8",
      "metadata": {
        "id": "60b516e8"
      },
      "source": [
        "### 日劇韓劇陸劇都有的畫愛心"
      ]
    },
    {
      "cell_type": "code",
      "execution_count": null,
      "id": "0650ecd9",
      "metadata": {
        "colab": {
          "base_uri": "https://localhost:8080/",
          "height": 459
        },
        "id": "0650ecd9",
        "outputId": "bdd6c91c-0d5a-4dfd-a159-283b2370b395"
      },
      "outputs": [
        {
          "output_type": "display_data",
          "data": {
            "text/plain": [
              "<Figure size 640x480 with 1 Axes>"
            ],
            "image/png": "[encoded data removed]"
          },
          "metadata": {}
        }
      ],
      "source": [
        "import numpy as np\n",
        "import matplotlib.pyplot as plt\n",
        "T = np.linspace(0, 2 * np.pi, 1024)  # 角度范圍 0-2*pi，劃為1024等份\n",
        "plt.axes(polar=True)    # 開啟極坐標模式\n",
        "plt.plot(T, 1. - np.sin(T), color=\"r\")\n",
        "plt.show()"
      ]
    },
    {
      "cell_type": "code",
      "execution_count": null,
      "id": "315aa83a",
      "metadata": {
        "colab": {
          "base_uri": "https://localhost:8080/",
          "height": 393
        },
        "id": "315aa83a",
        "outputId": "69913eda-f4ee-4ad6-b631-5020345c1f22"
      },
      "outputs": [
        {
          "output_type": "error",
          "ename": "TclError",
          "evalue": "ignored",
          "traceback": [
            "\u001b[0;31m---------------------------------------------------------------------------\u001b[0m",
            "\u001b[0;31mTclError\u001b[0m                                  Traceback (most recent call last)",
            "\u001b[0;32m<ipython-input-10-05e8405de621>\u001b[0m in \u001b[0;36m<cell line: 2>\u001b[0;34m()\u001b[0m\n\u001b[1;32m      1\u001b[0m \u001b[0;32mimport\u001b[0m \u001b[0mturtle\u001b[0m\u001b[0;34m\u001b[0m\u001b[0;34m\u001b[0m\u001b[0m\n\u001b[0;32m----> 2\u001b[0;31m \u001b[0mturtle\u001b[0m\u001b[0;34m.\u001b[0m\u001b[0mcolor\u001b[0m\u001b[0;34m(\u001b[0m\u001b[0;34m'red'\u001b[0m\u001b[0;34m,\u001b[0m \u001b[0;34m'pink'\u001b[0m\u001b[0;34m)\u001b[0m\u001b[0;34m\u001b[0m\u001b[0;34m\u001b[0m\u001b[0m\n\u001b[0m\u001b[1;32m      3\u001b[0m \u001b[0mturtle\u001b[0m\u001b[0;34m.\u001b[0m\u001b[0mpensize\u001b[0m\u001b[0;34m(\u001b[0m\u001b[0;36m2\u001b[0m\u001b[0;34m)\u001b[0m\u001b[0;34m\u001b[0m\u001b[0;34m\u001b[0m\u001b[0m\n\u001b[1;32m      4\u001b[0m \u001b[0mturtle\u001b[0m\u001b[0;34m.\u001b[0m\u001b[0mpendown\u001b[0m\u001b[0;34m(\u001b[0m\u001b[0;34m)\u001b[0m\u001b[0;34m\u001b[0m\u001b[0;34m\u001b[0m\u001b[0m\n\u001b[1;32m      5\u001b[0m \u001b[0mturtle\u001b[0m\u001b[0;34m.\u001b[0m\u001b[0msetheading\u001b[0m\u001b[0;34m(\u001b[0m\u001b[0;36m150\u001b[0m\u001b[0;34m)\u001b[0m\u001b[0;34m\u001b[0m\u001b[0;34m\u001b[0m\u001b[0m\n",
            "\u001b[0;32m/usr/lib/python3.10/turtle.py\u001b[0m in \u001b[0;36mcolor\u001b[0;34m(*args)\u001b[0m\n",
            "\u001b[0;32m/usr/lib/python3.10/turtle.py\u001b[0m in \u001b[0;36m__init__\u001b[0;34m(self, shape, undobuffersize, visible)\u001b[0m\n\u001b[1;32m   3812\u001b[0m                  visible=_CFG[\"visible\"]):\n\u001b[1;32m   3813\u001b[0m         \u001b[0;32mif\u001b[0m \u001b[0mTurtle\u001b[0m\u001b[0;34m.\u001b[0m\u001b[0m_screen\u001b[0m \u001b[0;32mis\u001b[0m \u001b[0;32mNone\u001b[0m\u001b[0;34m:\u001b[0m\u001b[0;34m\u001b[0m\u001b[0;34m\u001b[0m\u001b[0m\n\u001b[0;32m-> 3814\u001b[0;31m             \u001b[0mTurtle\u001b[0m\u001b[0;34m.\u001b[0m\u001b[0m_screen\u001b[0m \u001b[0;34m=\u001b[0m \u001b[0mScreen\u001b[0m\u001b[0;34m(\u001b[0m\u001b[0;34m)\u001b[0m\u001b[0;34m\u001b[0m\u001b[0;34m\u001b[0m\u001b[0m\n\u001b[0m\u001b[1;32m   3815\u001b[0m         RawTurtle.__init__(self, Turtle._screen,\n\u001b[1;32m   3816\u001b[0m                            \u001b[0mshape\u001b[0m\u001b[0;34m=\u001b[0m\u001b[0mshape\u001b[0m\u001b[0;34m,\u001b[0m\u001b[0;34m\u001b[0m\u001b[0;34m\u001b[0m\u001b[0m\n",
            "\u001b[0;32m/usr/lib/python3.10/turtle.py\u001b[0m in \u001b[0;36mScreen\u001b[0;34m()\u001b[0m\n\u001b[1;32m   3662\u001b[0m     else return the existing one.\"\"\"\n\u001b[1;32m   3663\u001b[0m     \u001b[0;32mif\u001b[0m \u001b[0mTurtle\u001b[0m\u001b[0;34m.\u001b[0m\u001b[0m_screen\u001b[0m \u001b[0;32mis\u001b[0m \u001b[0;32mNone\u001b[0m\u001b[0;34m:\u001b[0m\u001b[0;34m\u001b[0m\u001b[0;34m\u001b[0m\u001b[0m\n\u001b[0;32m-> 3664\u001b[0;31m         \u001b[0mTurtle\u001b[0m\u001b[0;34m.\u001b[0m\u001b[0m_screen\u001b[0m \u001b[0;34m=\u001b[0m \u001b[0m_Screen\u001b[0m\u001b[0;34m(\u001b[0m\u001b[0;34m)\u001b[0m\u001b[0;34m\u001b[0m\u001b[0;34m\u001b[0m\u001b[0m\n\u001b[0m\u001b[1;32m   3665\u001b[0m     \u001b[0;32mreturn\u001b[0m \u001b[0mTurtle\u001b[0m\u001b[0;34m.\u001b[0m\u001b[0m_screen\u001b[0m\u001b[0;34m\u001b[0m\u001b[0;34m\u001b[0m\u001b[0m\n\u001b[1;32m   3666\u001b[0m \u001b[0;34m\u001b[0m\u001b[0m\n",
            "\u001b[0;32m/usr/lib/python3.10/turtle.py\u001b[0m in \u001b[0;36m__init__\u001b[0;34m(self)\u001b[0m\n\u001b[1;32m   3678\u001b[0m         \u001b[0;31m# preserved (perhaps by passing it as an optional parameter)\u001b[0m\u001b[0;34m\u001b[0m\u001b[0;34m\u001b[0m\u001b[0m\n\u001b[1;32m   3679\u001b[0m         \u001b[0;32mif\u001b[0m \u001b[0m_Screen\u001b[0m\u001b[0;34m.\u001b[0m\u001b[0m_root\u001b[0m \u001b[0;32mis\u001b[0m \u001b[0;32mNone\u001b[0m\u001b[0;34m:\u001b[0m\u001b[0;34m\u001b[0m\u001b[0;34m\u001b[0m\u001b[0m\n\u001b[0;32m-> 3680\u001b[0;31m             \u001b[0m_Screen\u001b[0m\u001b[0;34m.\u001b[0m\u001b[0m_root\u001b[0m \u001b[0;34m=\u001b[0m \u001b[0mself\u001b[0m\u001b[0;34m.\u001b[0m\u001b[0m_root\u001b[0m \u001b[0;34m=\u001b[0m \u001b[0m_Root\u001b[0m\u001b[0;34m(\u001b[0m\u001b[0;34m)\u001b[0m\u001b[0;34m\u001b[0m\u001b[0;34m\u001b[0m\u001b[0m\n\u001b[0m\u001b[1;32m   3681\u001b[0m             \u001b[0mself\u001b[0m\u001b[0;34m.\u001b[0m\u001b[0m_root\u001b[0m\u001b[0;34m.\u001b[0m\u001b[0mtitle\u001b[0m\u001b[0;34m(\u001b[0m\u001b[0m_Screen\u001b[0m\u001b[0;34m.\u001b[0m\u001b[0m_title\u001b[0m\u001b[0;34m)\u001b[0m\u001b[0;34m\u001b[0m\u001b[0;34m\u001b[0m\u001b[0m\n\u001b[1;32m   3682\u001b[0m             \u001b[0mself\u001b[0m\u001b[0;34m.\u001b[0m\u001b[0m_root\u001b[0m\u001b[0;34m.\u001b[0m\u001b[0mondestroy\u001b[0m\u001b[0;34m(\u001b[0m\u001b[0mself\u001b[0m\u001b[0;34m.\u001b[0m\u001b[0m_destroy\u001b[0m\u001b[0;34m)\u001b[0m\u001b[0;34m\u001b[0m\u001b[0;34m\u001b[0m\u001b[0m\n",
            "\u001b[0;32m/usr/lib/python3.10/turtle.py\u001b[0m in \u001b[0;36m__init__\u001b[0;34m(self)\u001b[0m\n\u001b[1;32m    433\u001b[0m     \u001b[0;34m\"\"\"Root class for Screen based on Tkinter.\"\"\"\u001b[0m\u001b[0;34m\u001b[0m\u001b[0;34m\u001b[0m\u001b[0m\n\u001b[1;32m    434\u001b[0m     \u001b[0;32mdef\u001b[0m \u001b[0m__init__\u001b[0m\u001b[0;34m(\u001b[0m\u001b[0mself\u001b[0m\u001b[0;34m)\u001b[0m\u001b[0;34m:\u001b[0m\u001b[0;34m\u001b[0m\u001b[0;34m\u001b[0m\u001b[0m\n\u001b[0;32m--> 435\u001b[0;31m         \u001b[0mTK\u001b[0m\u001b[0;34m.\u001b[0m\u001b[0mTk\u001b[0m\u001b[0;34m.\u001b[0m\u001b[0m__init__\u001b[0m\u001b[0;34m(\u001b[0m\u001b[0mself\u001b[0m\u001b[0;34m)\u001b[0m\u001b[0;34m\u001b[0m\u001b[0;34m\u001b[0m\u001b[0m\n\u001b[0m\u001b[1;32m    436\u001b[0m \u001b[0;34m\u001b[0m\u001b[0m\n\u001b[1;32m    437\u001b[0m     \u001b[0;32mdef\u001b[0m \u001b[0msetupcanvas\u001b[0m\u001b[0;34m(\u001b[0m\u001b[0mself\u001b[0m\u001b[0;34m,\u001b[0m \u001b[0mwidth\u001b[0m\u001b[0;34m,\u001b[0m \u001b[0mheight\u001b[0m\u001b[0;34m,\u001b[0m \u001b[0mcwidth\u001b[0m\u001b[0;34m,\u001b[0m \u001b[0mcheight\u001b[0m\u001b[0;34m)\u001b[0m\u001b[0;34m:\u001b[0m\u001b[0;34m\u001b[0m\u001b[0;34m\u001b[0m\u001b[0m\n",
            "\u001b[0;32m/usr/lib/python3.10/tkinter/__init__.py\u001b[0m in \u001b[0;36m__init__\u001b[0;34m(self, screenName, baseName, className, useTk, sync, use)\u001b[0m\n\u001b[1;32m   2297\u001b[0m                 \u001b[0mbaseName\u001b[0m \u001b[0;34m=\u001b[0m \u001b[0mbaseName\u001b[0m \u001b[0;34m+\u001b[0m \u001b[0mext\u001b[0m\u001b[0;34m\u001b[0m\u001b[0;34m\u001b[0m\u001b[0m\n\u001b[1;32m   2298\u001b[0m         \u001b[0minteractive\u001b[0m \u001b[0;34m=\u001b[0m \u001b[0;32mFalse\u001b[0m\u001b[0;34m\u001b[0m\u001b[0;34m\u001b[0m\u001b[0m\n\u001b[0;32m-> 2299\u001b[0;31m         \u001b[0mself\u001b[0m\u001b[0;34m.\u001b[0m\u001b[0mtk\u001b[0m \u001b[0;34m=\u001b[0m \u001b[0m_tkinter\u001b[0m\u001b[0;34m.\u001b[0m\u001b[0mcreate\u001b[0m\u001b[0;34m(\u001b[0m\u001b[0mscreenName\u001b[0m\u001b[0;34m,\u001b[0m \u001b[0mbaseName\u001b[0m\u001b[0;34m,\u001b[0m \u001b[0mclassName\u001b[0m\u001b[0;34m,\u001b[0m \u001b[0minteractive\u001b[0m\u001b[0;34m,\u001b[0m \u001b[0mwantobjects\u001b[0m\u001b[0;34m,\u001b[0m \u001b[0museTk\u001b[0m\u001b[0;34m,\u001b[0m \u001b[0msync\u001b[0m\u001b[0;34m,\u001b[0m \u001b[0muse\u001b[0m\u001b[0;34m)\u001b[0m\u001b[0;34m\u001b[0m\u001b[0;34m\u001b[0m\u001b[0m\n\u001b[0m\u001b[1;32m   2300\u001b[0m         \u001b[0;32mif\u001b[0m \u001b[0museTk\u001b[0m\u001b[0;34m:\u001b[0m\u001b[0;34m\u001b[0m\u001b[0;34m\u001b[0m\u001b[0m\n\u001b[1;32m   2301\u001b[0m             \u001b[0mself\u001b[0m\u001b[0;34m.\u001b[0m\u001b[0m_loadtk\u001b[0m\u001b[0;34m(\u001b[0m\u001b[0;34m)\u001b[0m\u001b[0;34m\u001b[0m\u001b[0;34m\u001b[0m\u001b[0m\n",
            "\u001b[0;31mTclError\u001b[0m: no display name and no $DISPLAY environment variable"
          ]
        }
      ],
      "source": [
        "import turtle\n",
        "turtle.color('red', 'pink')\n",
        "turtle.pensize(2)\n",
        "turtle.pendown()\n",
        "turtle.setheading(150)\n",
        "turtle.begin_fill()\n",
        "turtle.fd(50)\n",
        "turtle.circle(50 * -3.745, 45)\n",
        "turtle.circle(50 * -1.431, 165)\n",
        "turtle.left(120)\n",
        "turtle.circle(50 * -1.431, 165)\n",
        "turtle.circle(50 * -3.745, 45)\n",
        "turtle.fd(50)\n",
        "turtle.end_fill()\n",
        "# 關閉視窗時才退出\n",
        "turtle.exitonclick()"
      ]
    },
    {
      "cell_type": "code",
      "execution_count": null,
      "id": "dfba4a7a",
      "metadata": {
        "id": "dfba4a7a"
      },
      "outputs": [],
      "source": [
        "import matplotlib.pyplot as plt\n",
        "import numpy as np\n",
        "\n",
        "t = np.linspace(0, 2 * np.pi, 1000)\n",
        "x = 16 * np.sin(t)**3\n",
        "y = 13 * np.cos(t) - 5 * np.cos(2*t) - 2 * np.cos(3*t) - np.cos(4*t)  # 心型曲線的引數方程\n",
        "\n",
        "plt.figure(figsize=(8, 6))\n",
        "plt.scatter(x, y, c=y, cmap=plt.cm.Reds, edgecolor='none', s=40)\n",
        "plt.scatter(-x, y, c=y, cmap=plt.cm.Reds, edgecolor='none', s=40)  # 漸變顏色曲線\n",
        "# 填充曲線\n",
        "plt.fill(x, y, 'r', alpha=0.6)\n",
        "plt.fill(-x, y, 'r', alpha=0.6)\n",
        "\n",
        "plt.axis('equal')  # 讓x軸和y軸的比例相等\n",
        "\n",
        "# 取消坐標軸顯示\n",
        "plt.axis('off')\n",
        "# 顯示圖形\n",
        "plt.show()\n"
      ]
    },
    {
      "cell_type": "code",
      "execution_count": null,
      "id": "08fa95c3",
      "metadata": {
        "id": "08fa95c3"
      },
      "outputs": [],
      "source": [
        "import random\n",
        "import math\n",
        "import tkinter as tk\n",
        "\n",
        "# Constants\n",
        "CANVAS_WIDTH = 640\n",
        "CANVAS_HEIGHT = 480\n",
        "CANVAS_CENTER_X = CANVAS_WIDTH / 2\n",
        "CANVAS_CENTER_Y = CANVAS_HEIGHT / 2\n",
        "IMAGE_ENLARGE = 11\n",
        "HEART_COLOR = \"#ff2121\"\n",
        "\n",
        "class HeartAnimation:\n",
        "    def __init__(self, root, canvas, generate_frame=20):\n",
        "        self.root = root\n",
        "        self.canvas = canvas\n",
        "        self.generate_frame = generate_frame\n",
        "        self.heart = self.create_heart()\n",
        "        self.current_frame = 0\n",
        "        self.draw_heart()\n",
        "\n",
        "    def create_heart(self):\n",
        "        heart = []\n",
        "        for _ in range(2000):\n",
        "            t = random.uniform(0, 2 * math.pi)\n",
        "            x, y = self.heart_function(t)\n",
        "            heart.append((x, y))\n",
        "\n",
        "        return heart\n",
        "\n",
        "    @staticmethod\n",
        "    def heart_function(t, shrink_ratio=IMAGE_ENLARGE):\n",
        "        x = 16 * (math.sin(t) ** 3)\n",
        "        y = -(13 * math.cos(t) - 5 * math.cos(2 * t) - 2 * math.cos(3 * t) - math.cos(4 * t))\n",
        "        x *= shrink_ratio\n",
        "        y *= shrink_ratio\n",
        "        x += CANVAS_CENTER_X\n",
        "        y += CANVAS_CENTER_Y\n",
        "        return int(x), int(y)\n",
        "\n",
        "    def draw_heart(self):\n",
        "        self.canvas.delete('all')\n",
        "        self.render(self.current_frame % self.generate_frame)\n",
        "        self.root.after(160, self.draw_heart)\n",
        "        self.current_frame += 1\n",
        "\n",
        "    def render(self, frame):\n",
        "        all_points = self.calculate_points(frame)\n",
        "        for x, y, size in all_points:\n",
        "            self.canvas.create_rectangle(x, y, x + size, y + size, width=0, fill=HEART_COLOR)\n",
        "\n",
        "    def calculate_points(self, generate_frame):\n",
        "        ratio = 10 * self.curve(generate_frame / 10 * math.pi)\n",
        "        all_points = []\n",
        "\n",
        "        for x, y in self.heart:\n",
        "            x, y = self.calc_position(x, y, ratio)\n",
        "            size = random.randint(1, 3)\n",
        "            all_points.append((x, y, size))\n",
        "\n",
        "        return all_points\n",
        "\n",
        "    @staticmethod\n",
        "    def calc_position(x, y, ratio):\n",
        "        force = 1 / (((x - CANVAS_CENTER_X) ** 2 + (y - CANVAS_CENTER_Y) ** 2) ** 0.520)\n",
        "        dx = ratio * force * (x - CANVAS_CENTER_X) + random.randint(-1, 1)\n",
        "        dy = ratio * force * (y - CANVAS_CENTER_Y) + random.randint(-1, 1)\n",
        "        return x - dx, y - dy\n",
        "\n",
        "    @staticmethod\n",
        "    def curve(p):\n",
        "        return 2 * (2 * math.sin(4 * p)) / (2 * math.pi)\n",
        "\n",
        "if __name__ == '__main__':\n",
        "    root = tk.Tk()\n",
        "    canvas = tk.Canvas(root, bg='black', height=CANVAS_HEIGHT, width=CANVAS_WIDTH)\n",
        "    canvas.pack()\n",
        "    HeartAnimation(root, canvas)\n",
        "    root.mainloop()\n"
      ]
    },
    {
      "cell_type": "markdown",
      "id": "e299b943",
      "metadata": {
        "id": "e299b943"
      },
      "source": [
        "### 上週複習"
      ]
    },
    {
      "cell_type": "code",
      "execution_count": null,
      "id": "5ea1c368",
      "metadata": {
        "id": "5ea1c368"
      },
      "outputs": [],
      "source": [
        "def find_smaller_number(a, b):\n",
        "    if a < b:\n",
        "        return a\n",
        "    elif a > b:\n",
        "        return b\n",
        "    else:\n",
        "        return -1\n",
        "\n",
        "\n",
        "result = find_smaller_number(5, 7)\n",
        "print(result)  # 5\n",
        "\n",
        "result = find_smaller_number(9, 3)\n",
        "print(result)  # 3\n",
        "\n",
        "result = find_smaller_number(4, 4)\n",
        "print(result)  # -1"
      ]
    },
    {
      "cell_type": "code",
      "execution_count": null,
      "id": "49066776",
      "metadata": {
        "id": "49066776"
      },
      "outputs": [],
      "source": [
        "def is_prime(num):\n",
        "    if num <= 1:\n",
        "        return False\n",
        "    if num == 2:\n",
        "        return True\n",
        "    if num % 2 == 0:\n",
        "        return False\n",
        "    for i in range(3, int(num**0.5) + 1, 2):\n",
        "        if num % i == 0:\n",
        "            return False\n",
        "    return True\n",
        "\n",
        "def find_primes_up_to_N(N):\n",
        "    prime_list = []\n",
        "    for num in range(1, N + 1):\n",
        "        if is_prime(num):\n",
        "            prime_list.append(num)\n",
        "    return prime_list\n",
        "\n",
        "N = 20\n",
        "primes = find_primes_up_to_N(N)\n",
        "print(primes)  # 輸出1-20的質數\n"
      ]
    },
    {
      "cell_type": "markdown",
      "id": "d37a71f6",
      "metadata": {
        "id": "d37a71f6"
      },
      "source": [
        "### 為甚麼只要到平方根??"
      ]
    },
    {
      "cell_type": "markdown",
      "id": "094a7d8e",
      "metadata": {
        "id": "094a7d8e"
      },
      "source": [
        "#### 因為 如果 a*b= N  ，則a跟b一定有一個<=根號N\n"
      ]
    },
    {
      "cell_type": "markdown",
      "id": "0c83d6f4",
      "metadata": {
        "id": "0c83d6f4"
      },
      "source": [
        "# 爬蟲"
      ]
    },
    {
      "cell_type": "markdown",
      "id": "8431f33b",
      "metadata": {
        "id": "8431f33b"
      },
      "source": [
        "### 首先，先來看靜態跟動態的差別吧!"
      ]
    },
    {
      "cell_type": "markdown",
      "id": "1449812c",
      "metadata": {
        "id": "1449812c"
      },
      "source": [
        "#### 靜態: https://hackmd.io/@aaronlife/python-topic-beautifulsoup"
      ]
    },
    {
      "cell_type": "code",
      "execution_count": null,
      "id": "a5c93f0c",
      "metadata": {
        "id": "a5c93f0c"
      },
      "outputs": [],
      "source": [
        "#靜態\n",
        "import requests\n",
        "\n",
        "url = 'https://hackmd.io/@aaronlife/python-topic-beautifulsoup'\n",
        "\n",
        "response = requests.get(url)\n",
        "\n",
        "if response.status_code == 200:\n",
        "\n",
        "    html_content = response.text\n",
        "\n",
        "\n",
        "    filename = 'web_page_靜態.html'\n",
        "\n",
        "\n",
        "    with open(filename, 'w', encoding='utf-8') as file:\n",
        "        file.write(html_content)\n",
        "else:\n",
        "    print(\"Unable to access the web page\")\n",
        "\n",
        "response.close()\n"
      ]
    },
    {
      "cell_type": "markdown",
      "id": "321d4ea9",
      "metadata": {
        "id": "321d4ea9"
      },
      "source": [
        "#### 動態 https://24h.pchome.com.tw/"
      ]
    },
    {
      "cell_type": "code",
      "execution_count": null,
      "id": "d58c93c8",
      "metadata": {
        "id": "d58c93c8"
      },
      "outputs": [],
      "source": [
        "#動態\n",
        "import requests\n",
        "\n",
        "url = 'https://24h.pchome.com.tw/'\n",
        "\n",
        "response = requests.get(url)\n",
        "\n",
        "if response.status_code == 200:\n",
        "\n",
        "    html_content = response.text\n",
        "\n",
        "\n",
        "    filename = 'web_page_動態.html'\n",
        "\n",
        "\n",
        "    with open(filename, 'w', encoding='utf-8') as file:\n",
        "        file.write(html_content)\n",
        "else:\n",
        "    print(\"Unable to access the web page\")\n",
        "\n",
        "response.close()"
      ]
    },
    {
      "cell_type": "markdown",
      "id": "4743c617",
      "metadata": {
        "id": "4743c617"
      },
      "source": [
        "### 此時你會發現! 動態網頁抓不到東西\n",
        "第二部分再來學抓動態網站，先從靜態爬蟲開始吧!"
      ]
    },
    {
      "cell_type": "markdown",
      "id": "f30b00b6",
      "metadata": {
        "id": "f30b00b6"
      },
      "source": [
        "#### requests\n",
        "#### BeautifulSoup\n",
        "我們透過這兩個函式庫來實作爬蟲"
      ]
    },
    {
      "cell_type": "markdown",
      "id": "a072308f",
      "metadata": {
        "id": "a072308f"
      },
      "source": [
        "### 直接來看一個範例吧!  https://ethan-tsai.github.io/py_materials/L3_webpage.html"
      ]
    },
    {
      "cell_type": "markdown",
      "id": "8a33c046",
      "metadata": {
        "id": "8a33c046"
      },
      "source": [
        "p1"
      ]
    },
    {
      "cell_type": "code",
      "execution_count": null,
      "id": "44195334",
      "metadata": {
        "colab": {
          "base_uri": "https://localhost:8080/"
        },
        "id": "44195334",
        "outputId": "9dc8266e-444c-430d-a1c9-b4c414578778"
      },
      "outputs": [
        {
          "output_type": "stream",
          "name": "stdout",
          "text": [
            "apple\n",
            "banana\n",
            "cherry\n",
            "date\n",
            "elderberry\n",
            "fig\n",
            "grape\n",
            "kiwi\n",
            "lemon\n",
            "mango\n",
            "orange\n",
            "papaya\n",
            "quince\n",
            "raspberry\n",
            "strawberry\n",
            "tomato\n",
            "watermelon\n",
            "apricot\n",
            "blueberry\n",
            "coconut\n",
            "grapefruit\n",
            "lime\n",
            "melon\n",
            "peach\n",
            "pear\n",
            "plum\n",
            "blackberry\n",
            "cantaloupe\n",
            "guava\n",
            "pineapple\n",
            "pomegranate\n",
            "cranberry\n",
            "kiwifruit\n",
            "avocado\n",
            "strawberry\n",
            "raspberry\n",
            "currant\n",
            "tangerine\n",
            "nectarine\n",
            "grapefruit\n",
            "mandarin\n",
            "passion fruit\n",
            "starfruit\n",
            "boysenberry\n",
            "gooseberry\n",
            "papaya\n",
            "lychee\n",
            "\n",
            "成功。\n"
          ]
        }
      ],
      "source": [
        "import requests\n",
        "from bs4 import BeautifulSoup\n",
        "import csv\n",
        "\n",
        "\n",
        "\n",
        "\n",
        "url = 'https://ethan-tsai.github.io/py_materials/L3_webpage.html'\n",
        "\n",
        "\n",
        "response = requests.get(url)\n",
        "\n",
        "\n",
        "if response.status_code == 200:\n",
        "\n",
        "    soup = BeautifulSoup(response.text, 'html.parser')\n",
        "\n",
        "\n",
        "    p1 = soup.find('div',id='p1')\n",
        "\n",
        "    fruits = p1.find_all('li')\n",
        "\n",
        "    for fruit in fruits:\n",
        "        print(fruit.string)\n",
        "\n",
        "    print(\"\\n成功。\")\n",
        "\n",
        "else:\n",
        "    print(\"失敗:\", response.status_code)\n",
        "\n"
      ]
    },
    {
      "cell_type": "markdown",
      "id": "1d8dad85",
      "metadata": {
        "id": "1d8dad85"
      },
      "source": [
        "p2"
      ]
    },
    {
      "cell_type": "code",
      "execution_count": null,
      "id": "b4c44ecc",
      "metadata": {
        "colab": {
          "base_uri": "https://localhost:8080/"
        },
        "id": "b4c44ecc",
        "outputId": "9dcdfb00-4697-4506-df54-951df22e6e2c"
      },
      "outputs": [
        {
          "output_type": "stream",
          "name": "stdout",
          "text": [
            "https://www.nogizaka46.com/s/n46/artist/55396?ima=2128\n",
            "https://www.nogizaka46.com/s/n46/artist/55389?ima=3044\n",
            "https://www.nogizaka46.com/s/n46/artist/48008?ima=3044\n",
            "https://www.nogizaka46.com/s/n46/artist/55393?ima=3044\n",
            "https://www.nogizaka46.com/s/n46/artist/36758?ima=3603\n",
            "--------------------------------------------------------------------------------------------------------\n",
            "link: https://www.nogizaka46.com/s/n46/artist/55396?ima=2128 mao ioki\n",
            "link: https://www.nogizaka46.com/s/n46/artist/55389?ima=3044 nagi inoue\n",
            "link: https://www.nogizaka46.com/s/n46/artist/48008?ima=3044 kaki haruka\n",
            "link: https://www.nogizaka46.com/s/n46/artist/55393?ima=3044 nao tomisato\n",
            "link: https://www.nogizaka46.com/s/n46/artist/36758?ima=3603 yamashita mizuki\n",
            "\n",
            "成功。\n"
          ]
        }
      ],
      "source": [
        "import requests\n",
        "from bs4 import BeautifulSoup\n",
        "import csv\n",
        "\n",
        "\n",
        "url = 'https://ethan-tsai.github.io/py_materials/L3_webpage.html'\n",
        "\n",
        "\n",
        "response = requests.get(url)\n",
        "\n",
        "\n",
        "if response.status_code == 200:\n",
        "\n",
        "    soup = BeautifulSoup(response.text, 'html.parser')\n",
        "\n",
        "\n",
        "    p2 = soup.find('div',id='p2')\n",
        "\n",
        "    nogizaka46 = p2.find_all('a')\n",
        "\n",
        "    #寫法1\n",
        "    for link in nogizaka46:\n",
        "        print(link.get('href'))\n",
        "    print(\"--------------------------------------------------------------------------------------------------------\")\n",
        "    #寫法2\n",
        "    for link in nogizaka46:\n",
        "        print(\"link:\", link['href'], link.text)\n",
        "\n",
        "    print(\"\\n成功。\")\n",
        "\n",
        "else:\n",
        "    print(\"失敗:\", response.status_code)\n",
        "\n"
      ]
    },
    {
      "cell_type": "code",
      "execution_count": null,
      "id": "9a643ac2",
      "metadata": {
        "id": "9a643ac2"
      },
      "outputs": [],
      "source": [
        "import requests\n",
        "from bs4 import BeautifulSoup\n",
        "import csv\n",
        "\n",
        "\n",
        "headers = {\n",
        "    'User-Agent': 'Mozilla/5.0 (Windows NT 10.0; Win64; x64) AppleWebKit/537.36 (KHTML, like Gecko) Chrome/58.0.3029.110 Safari/537.36'}\n",
        "\n",
        "\n",
        "url = 'https://newcar.u-car.com.tw/newcar/search?bodytype=0&minprice=&maxprice=&size=0&displacement=0&fueltype=0'\n",
        "\n",
        "\n",
        "response = requests.get(url, headers=headers)\n",
        "\n",
        "\n",
        "if response.status_code == 200:\n",
        "\n",
        "    soup = BeautifulSoup(response.text, 'html.parser')\n",
        "\n",
        "    car_info_elements = soup.select('.newcar_range_ideal')\n",
        "\n",
        "    with open('ucar_car_models.csv', 'w', newline='', encoding='utf-8') as csv_file:\n",
        "\n",
        "        csv_writer = csv.writer(csv_file)\n",
        "\n",
        "        csv_writer.writerow(['brand', 'product','price'])\n",
        "\n",
        "\n",
        "        for car_info_element in car_info_elements:\n",
        "\n",
        "            car_model = car_info_element.select_one('.title_brand').text.strip()\n",
        "            car_style = car_info_element.select_one('.title').text.strip()\n",
        "            car_price = car_info_element.select_one('.price_number strong').text.strip()\n",
        "\n",
        "            csv_writer.writerow([car_model, car_style, car_price])\n",
        "\n",
        "    print(\"存於ucar_car_models.csv檔案。\")\n",
        "\n",
        "else:\n",
        "    print(\"失敗:\", response.status_code)\n",
        "\n"
      ]
    },
    {
      "cell_type": "markdown",
      "id": "9db9c101",
      "metadata": {
        "id": "9db9c101"
      },
      "source": [
        "p3"
      ]
    },
    {
      "cell_type": "code",
      "execution_count": null,
      "id": "52b58940",
      "metadata": {
        "id": "52b58940"
      },
      "outputs": [],
      "source": [
        "import requests\n",
        "from bs4 import BeautifulSoup\n",
        "import csv\n",
        "\n",
        "url = 'https://ethan-tsai.github.io/py_materials/L3_webpage.html'\n",
        "\n",
        "\n",
        "response = requests.get(url)\n",
        "\n",
        "\n",
        "if response.status_code == 200:\n",
        "\n",
        "    soup = BeautifulSoup(response.text, 'html.parser')\n",
        "\n",
        "    p3 = soup.find(id='pratice3')\n",
        "\n",
        "    p3_son = p3.find_all('p', class_={\"a_class\", \"b_class\"})\n",
        "\n",
        "    for p in p3_son:\n",
        "        print(p.text)\n",
        "\n",
        "    print(\"\\n成功。\")\n",
        "\n",
        "else:\n",
        "    print(\"失敗:\", response.status_code)\n",
        "\n"
      ]
    },
    {
      "cell_type": "markdown",
      "id": "8bfbb875",
      "metadata": {
        "id": "8bfbb875"
      },
      "source": [
        "p4"
      ]
    },
    {
      "cell_type": "code",
      "execution_count": null,
      "id": "a118606b",
      "metadata": {
        "id": "a118606b"
      },
      "outputs": [],
      "source": [
        "import requests\n",
        "from bs4 import BeautifulSoup\n",
        "import csv\n",
        "import os\n",
        "\n",
        "url = 'https://ethan-tsai.github.io/py_materials/L3_webpage.html'\n",
        "\n",
        "download_directory = 'imgs'\n",
        "os.makedirs(download_directory, exist_ok=True)\n",
        "\n",
        "response = requests.get(url)\n",
        "\n",
        "\n",
        "if response.status_code == 200:\n",
        "\n",
        "    soup = BeautifulSoup(response.text, 'html.parser')\n",
        "\n",
        "    p4 = soup.find(id='p4')\n",
        "\n",
        "    img_tags = soup.find_all('img')\n",
        "\n",
        "    for img in img_tags:\n",
        "        img_url = img['src']\n",
        "        img_name = img_url.split('/')[-1]\n",
        "        img_data = requests.get(img_url).content\n",
        "\n",
        "        img_path = os.path.join(download_directory, img_name)\n",
        "        with open(img_path, 'wb') as img_file:\n",
        "            img_file.write(img_data)\n",
        "\n",
        "    print('成功')\n",
        "else:\n",
        "    print(\"失敗\")\n",
        "\n",
        "\n"
      ]
    },
    {
      "cell_type": "markdown",
      "id": "3090a7f2",
      "metadata": {
        "id": "3090a7f2"
      },
      "source": [
        "### 有沒有發現，只要了解網頁結構 也就是標籤、區塊等，靜態爬蟲就很輕易了呢!"
      ]
    },
    {
      "cell_type": "markdown",
      "id": "f4c263b5",
      "metadata": {
        "id": "f4c263b5"
      },
      "source": [
        "### 語法總結:"
      ]
    },
    {
      "cell_type": "markdown",
      "id": "55ef8d6c",
      "metadata": {
        "id": "55ef8d6c"
      },
      "source": [
        "1. 一層一層往下找  \n",
        "解釋: soup = BeautifulSoup(web.text, \"html.parser\") - 現在soup的範圍是整個網站\n",
        "2. 選到你要的區塊  \n",
        "解釋: car_info_elements = soup.select('.newcar_range_ideal') - 我想要專心在.newcar_range_ideal的區塊  \n",
        "此時，因為.newcar_range_ideal有很多個，可以透過上次教過的迴圈來將每一個都處理\n",
        "3. 迴圈  \n",
        "解釋: for car_info_element in car_info_elements: -此時 car_info_element 就會是 符合 .newcar_range_ideal 的內容\n",
        "4. 再剝洋蔥  \n",
        "解釋: car_info_element中還會有你想得到得內容，可以再透過car_info_element.select_one()等方式得到"
      ]
    },
    {
      "cell_type": "markdown",
      "id": "67b48f4f",
      "metadata": {
        "id": "67b48f4f"
      },
      "source": [
        "##### 其中select_one() ，select()，find()，find_all() 有很多用法~"
      ]
    },
    {
      "cell_type": "markdown",
      "id": "9192fae6",
      "metadata": {
        "id": "9192fae6"
      },
      "source": [
        "find(): 找符合()條件的第一個\n",
        "a_son=a.find(條件H)  a_son會等於在a區域中符合條件H的第一個內容，此時可透過a_son.text  a_son.string a_son.get('href')"
      ]
    },
    {
      "cell_type": "markdown",
      "id": "c090c465",
      "metadata": {
        "id": "c090c465"
      },
      "source": [
        "https://steam.oxxostudio.tw/category/python/spider/beautiful-soup.html\n",
        "BeautifulSoup 詳細教學\n",
        "https://www.twblogs.net/a/5d4bcb66bd9eee5327fc2107"
      ]
    },
    {
      "cell_type": "markdown",
      "id": "844fc0c0",
      "metadata": {
        "id": "844fc0c0"
      },
      "source": [
        "#### 練習時間~"
      ]
    },
    {
      "cell_type": "code",
      "execution_count": null,
      "id": "d7f5d5d0",
      "metadata": {
        "id": "d7f5d5d0"
      },
      "outputs": [],
      "source": [
        "import requests\n",
        "from bs4 import BeautifulSoup\n",
        "\n",
        "url = 'https://water.taiwanstat.com/'\n",
        "web = requests.get(url)\n",
        "soup = BeautifulSoup(web.text, \"html.parser\")\n",
        "reservoir = soup.select('.reservoir')     # 取得所有 class 為 reservoir 的 tag\n",
        "for i in reservoir:\n",
        "    print(i.find('div', class_='name').get_text(), end=' ')  # 取得內容的 class 為 name 的 div 文字\n",
        "    print(i.find('h5').get_text(), end=' ')   # 取得內容 h5 tag 的文字\n",
        "    print()"
      ]
    },
    {
      "cell_type": "markdown",
      "id": "a9bc11be",
      "metadata": {
        "id": "a9bc11be"
      },
      "source": [
        "# 接下來來看動態爬蟲吧~ (入門)"
      ]
    },
    {
      "cell_type": "markdown",
      "id": "ecaf9f22",
      "metadata": {
        "id": "ecaf9f22"
      },
      "source": [
        "#### 1. pip selenium 要用他"
      ]
    },
    {
      "cell_type": "code",
      "execution_count": null,
      "id": "4b3e6e5d",
      "metadata": {
        "id": "4b3e6e5d"
      },
      "outputs": [],
      "source": [
        "# !pip install selenium"
      ]
    },
    {
      "cell_type": "markdown",
      "id": "aece7b7d",
      "metadata": {
        "id": "aece7b7d"
      },
      "source": [
        "#### 2. 下載這個https://sites.google.com/chromium.org/driver/downloads/version-selection 先查看chrome版本"
      ]
    },
    {
      "cell_type": "markdown",
      "id": "8cea19db",
      "metadata": {
        "id": "8cea19db"
      },
      "source": [
        "#### 3. 下載好解壓縮放在跟這個檔案同一層的地方"
      ]
    },
    {
      "cell_type": "code",
      "execution_count": null,
      "id": "37401032",
      "metadata": {
        "colab": {
          "base_uri": "https://localhost:8080/",
          "height": 386
        },
        "id": "37401032",
        "outputId": "a17eda08-16fc-47c7-8cc9-77b06261a7c5"
      },
      "outputs": [
        {
          "output_type": "error",
          "ename": "ModuleNotFoundError",
          "evalue": "ignored",
          "traceback": [
            "\u001b[0;31m---------------------------------------------------------------------------\u001b[0m",
            "\u001b[0;31mModuleNotFoundError\u001b[0m                       Traceback (most recent call last)",
            "\u001b[0;32m<ipython-input-16-a767b193b670>\u001b[0m in \u001b[0;36m<cell line: 1>\u001b[0;34m()\u001b[0m\n\u001b[0;32m----> 1\u001b[0;31m \u001b[0;32mfrom\u001b[0m \u001b[0mselenium\u001b[0m \u001b[0;32mimport\u001b[0m \u001b[0mwebdriver\u001b[0m\u001b[0;34m\u001b[0m\u001b[0;34m\u001b[0m\u001b[0m\n\u001b[0m\u001b[1;32m      2\u001b[0m \u001b[0;32mfrom\u001b[0m \u001b[0mbs4\u001b[0m \u001b[0;32mimport\u001b[0m \u001b[0mBeautifulSoup\u001b[0m\u001b[0;34m\u001b[0m\u001b[0;34m\u001b[0m\u001b[0m\n\u001b[1;32m      3\u001b[0m \u001b[0;32mimport\u001b[0m \u001b[0mtime\u001b[0m\u001b[0;34m\u001b[0m\u001b[0;34m\u001b[0m\u001b[0m\n\u001b[1;32m      4\u001b[0m \u001b[0;34m\u001b[0m\u001b[0m\n\u001b[1;32m      5\u001b[0m \u001b[0;31m# 初始化一個Chrome瀏覽器\u001b[0m\u001b[0;34m\u001b[0m\u001b[0;34m\u001b[0m\u001b[0m\n",
            "\u001b[0;31mModuleNotFoundError\u001b[0m: No module named 'selenium'",
            "",
            "\u001b[0;31m---------------------------------------------------------------------------\u001b[0;32m\nNOTE: If your import is failing due to a missing package, you can\nmanually install dependencies using either !pip or !apt.\n\nTo view examples of installing some common dependencies, click the\n\"Open Examples\" button below.\n\u001b[0;31m---------------------------------------------------------------------------\u001b[0m\n"
          ],
          "errorDetails": {
            "actions": [
              {
                "action": "open_url",
                "actionText": "Open Examples",
                "url": "/notebooks/snippets/importing_libraries.ipynb"
              }
            ]
          }
        }
      ],
      "source": [
        "from selenium import webdriver\n",
        "from bs4 import BeautifulSoup\n",
        "import time\n",
        "\n",
        "# 初始化一個Chrome瀏覽器\n",
        "driver = webdriver.Chrome()\n",
        "\n",
        "url = 'https://water.taiwanstat.com/'\n",
        "driver.get(url)\n",
        "\n",
        "# 等待一些時間，讓網頁加載完畢（你可以根據需要調整等待時間）\n",
        "time.sleep(5)\n",
        "\n",
        "# 使用BeautifulSoup解析網頁內容\n",
        "soup = BeautifulSoup(driver.page_source, 'html.parser')\n",
        "\n",
        "reservoir = soup.select('.reservoir')\n",
        "\n",
        "for i in reservoir:\n",
        "    print(i.find('div', class_='name').get_text(), end=' ')\n",
        "    print(i.find('h5').get_text(), end=' ')\n",
        "    print()\n",
        "\n",
        "# 關閉瀏覽器\n",
        "driver.quit()\n"
      ]
    },
    {
      "cell_type": "markdown",
      "id": "c88a05ec",
      "metadata": {
        "id": "c88a05ec"
      },
      "source": [
        "#### 語法介紹:  \n",
        "https://blog.csdn.net/fg8299/article/details/132517501 <br> https://steam.oxxostudio.tw/category/python/spider/selenium.html"
      ]
    },
    {
      "cell_type": "code",
      "execution_count": null,
      "id": "f1f816e1",
      "metadata": {
        "id": "f1f816e1"
      },
      "outputs": [],
      "source": [
        "from selenium import webdriver\n",
        "from selenium.webdriver.chrome.service import Service\n",
        "\n",
        "service = Service(executable_path='./chromedriver.exe')\n",
        "options = webdriver.ChromeOptions()\n",
        "driver = webdriver.Chrome(service=service, options=options)\n",
        "# ...\n",
        "driver.get(\"https://www.nsysu.edu.tw/\")\n",
        "\n",
        "print(driver.title)\n",
        "\n",
        "\n",
        "driver.quit()"
      ]
    },
    {
      "cell_type": "code",
      "execution_count": null,
      "id": "d3d62467",
      "metadata": {
        "id": "d3d62467"
      },
      "outputs": [],
      "source": [
        "from selenium import webdriver\n",
        "from selenium.webdriver.chrome.service import Service\n",
        "\n",
        "service = Service(executable_path='./chromedriver.exe')\n",
        "options = webdriver.ChromeOptions()\n",
        "driver = webdriver.Chrome(service=service, options=options)\n",
        "# ...\n",
        "driver.get(\"https://www.nsysu.edu.tw/p/422-1000-1338.php?Lang=zh-tw\")\n",
        "\n",
        "test = driver.find_element(By.ID, 'Dyn_2_3')\n",
        "\n",
        "print(driver.title)\n",
        "\n",
        "\n",
        "driver.quit()"
      ]
    },
    {
      "cell_type": "code",
      "execution_count": null,
      "id": "b4dfae17",
      "metadata": {
        "id": "b4dfae17"
      },
      "outputs": [],
      "source": [
        "# coding=utf-8\n",
        "from selenium import webdriver\n",
        "from selenium.webdriver.common.by import By\n",
        "from selenium.webdriver.chrome.service import Service\n",
        "from selenium.webdriver.support.ui import WebDriverWait\n",
        "from selenium.webdriver.support import expected_conditions as EC\n",
        "\n",
        "# 設定 WebDriver\n",
        "service = Service(executable_path='./chromedriver.exe')\n",
        "options = webdriver.ChromeOptions()\n",
        "driver = webdriver.Chrome(service=service, options=options)\n",
        "\n",
        "driver.get(\"https://www.nsysu.edu.tw/p/422-1000-1338.php?Lang=zh-tw\")\n",
        "\n",
        "for ti in range(5):\n",
        "    # 等待\"pageptlist\"元素出現\n",
        "    table = WebDriverWait(driver, 10).until(EC.presence_of_element_located((By.ID, 'pageptlist')))\n",
        "\n",
        "    # 查找所有標題元素\n",
        "    tit = table.find_elements(By.CLASS_NAME, 'mtitle')\n",
        "\n",
        "    print(f\"第{ti+1}頁: \\n\")\n",
        "\n",
        "    for a in tit:\n",
        "        a_element = a.find_element(By.TAG_NAME, 'a')\n",
        "        link = a_element.get_attribute('href')\n",
        "        text = a_element.text\n",
        "        print(link)  # 獲取連結\n",
        "        print(text)  # 獲取連結文字\n",
        "        print(\"-----------------------------------------------------\")\n",
        "\n",
        "    try:\n",
        "        # 等待下一頁元素出現\n",
        "        page = WebDriverWait(driver, 10).until(EC.presence_of_element_located((By.ID, '_cgptlist_gonext')))\n",
        "        page.click()  # 點擊下一頁\n",
        "        print(\"\\n\\n換頁\\n\\n\")\n",
        "    except:\n",
        "        break  # 當無法找到下一頁元素時退出迴圈\n",
        "\n",
        "driver.quit()\n"
      ]
    },
    {
      "cell_type": "code",
      "execution_count": null,
      "id": "783aea9f",
      "metadata": {
        "id": "783aea9f"
      },
      "outputs": [],
      "source": []
    }
  ],
  "metadata": {
    "kernelspec": {
      "display_name": "Python 3 (ipykernel)",
      "language": "python",
      "name": "python3"
    },
    "language_info": {
      "codemirror_mode": {
        "name": "ipython",
        "version": 3
      },
      "file_extension": ".py",
      "mimetype": "text/x-python",
      "name": "python",
      "nbconvert_exporter": "python",
      "pygments_lexer": "ipython3",
      "version": "3.9.13"
    },
    "colab": {
      "provenance": []
    }
  },
  "nbformat": 4,
  "nbformat_minor": 5
}